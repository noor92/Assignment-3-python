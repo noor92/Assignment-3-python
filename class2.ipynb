{
 "cells": [
  {
   "cell_type": "markdown",
   "metadata": {},
   "source": [
    "# ASSIGNMENT #04"
   ]
  },
  {
   "cell_type": "markdown",
   "metadata": {},
   "source": [
    "# Task\n",
    "\n",
    "You are tasked with creating a Python program that serves as an interactive tool for a friend who enjoys exploring numbers. The program should begin by prompting the user to enter their name and then ask them for three of their favorite numbers. After gathering this information, the program should greet the user with a personalized message that includes their name. The three numbers provided by the user should be stored in a list. The program should then check if any of the numbers are even or odd, and store this information in a separate list of tuples, where each tuple contains the number and a string indicating whether it is \"even\" or \"odd\". Following this, the program should use a for loop to iterate over the list of numbers, and for each number, it should create a tuple containing the number and its square. These tuples should be printed in a creative and engaging format. Additionally, the program should calculate the sum of the three numbers and print the result, accompanied by an encouraging message. Finally, the program should determine if the sum is a prime number and notify the user with an appropriate message. The goal is to make the tool both enjoyable and informative, allowing the user to explore their favorite numbers in a fun and interactive way, while also introducing some interesting logical checks.\n"
   ]
  },
  {
   "cell_type": "code",
   "execution_count": 1,
   "metadata": {},
   "outputs": [
    {
     "name": "stdout",
     "output_type": "stream",
     "text": [
      "Alex\n",
      "4\n",
      "6\n",
      "9\n",
      "Hello,Alex!Let's explore your favourite numbers:\n",
      "The number 4 is even.\n",
      "The number 6 is even.\n",
      "The number 9 is odd.\n",
      "The number 4 and its square: (4, 16)\n",
      "The number 6 and its square: (6, 36)\n",
      "The number 9 and its square: (9, 81)\n",
      "Amazing! The sum of your favorite numbers is: 19\n",
      "Wow! 19 is a prime number.\n"
     ]
    }
   ],
   "source": [
    "\n",
    "name = str(input(\"Enter your name:\"))\n",
    "print(name)\n",
    "num1 = int(input(\"Enter your favourite first number:\"))\n",
    "print(num1)\n",
    "num2 = int(input(\"Enter your favourite second number:\"))\n",
    "print(num2)\n",
    "num3 = int(input(\"Enter your favourite third number:\"))\n",
    "print(num3)\n",
    "greet_message = f\"Hello,{name}!Let's explore your favourite numbers:\"\n",
    "print(greet_message)\n",
    "list = [num1,num2,num3]\n",
    "even_odd_info = []\n",
    "for num in list:\n",
    "    if num % 2 == 0:\n",
    "        even_odd_info.append((num, \"even\"))\n",
    "    else:\n",
    "        even_odd_info.append((num, \"odd\"))\n",
    "for num, type in even_odd_info:\n",
    "    print(f\"The number {num} is {type}.\")\n",
    "for num in list:\n",
    "    print(f\"The number {num} and its square: ({num}, {num**2})\")\n",
    "total_sum = num1 + num2 + num3\n",
    "print(f\"Amazing! The sum of your favorite numbers is: {total_sum}\")\n",
    "\n",
    "def is_prime(n):\n",
    "    if n <= 1:\n",
    "        return False\n",
    "    if n <= 3:\n",
    "        return True\n",
    "    if n % 2 == 0 or n % 3 == 0:\n",
    "        return False\n",
    "    i = 5\n",
    "    while i * i <= n:\n",
    "        if n % i == 0 or n % (i + 2) == 0:\n",
    "            return False\n",
    "        i +=6\n",
    "    return True\n",
    "if is_prime(total_sum):\n",
    "    print(f\"Wow! {total_sum} is a prime number.\")\n",
    "else:\n",
    "    print(f\"{total_sum} is not a prime number\")\n",
    "\n"
   ]
  }
 ],
 "metadata": {
  "kernelspec": {
   "display_name": "base",
   "language": "python",
   "name": "python3"
  },
  "language_info": {
   "codemirror_mode": {
    "name": "ipython",
    "version": 3
   },
   "file_extension": ".py",
   "mimetype": "text/x-python",
   "name": "python",
   "nbconvert_exporter": "python",
   "pygments_lexer": "ipython3",
   "version": "3.11.6"
  }
 },
 "nbformat": 4,
 "nbformat_minor": 2
}
